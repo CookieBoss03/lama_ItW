{
 "cells": [
  {
   "cell_type": "markdown",
   "id": "01fba671-6040-4986-b57a-339c1c16c036",
   "metadata": {},
   "source": [
    "# Project Lama Into the Wild: Transfer Learning & Domain Similarity metrics\n",
    "<b>Group Number: 13</b><br>\n",
    "<b>Name Group Member 1: Léo Brucker</b><br>\n",
    "<b>u-Kürzel Group Member 1: uhugu</b><br>\n",
    "<b>Name Group Member 2: Cyril Rudolph</b><br>\n",
    "<b>u-Kürzel Group Member 2: udjvh</b>\n",
    "## Project Description:\n",
    "### Primary Milestone:\n",
    "Goal: Transfer Learning (Domain Adaptation) in Precision Agriculture.\n",
    "<br>Task: train a model for classification and evaluate it in different domains.\n",
    "\n",
    "Understand the problems of Federated learning and class imbalance by first trying to apply a model that can transfer the “global model” onto local small datasets (defined by different clients in the FEMNIST dataset).\n",
    "\n",
    "### Secondary Milestone:\n",
    "Use Federated Transfer Learning on a more complex dataset with two types of class categories (plant type and plant health). One of these types of classes will be used to simulate the clients (for the federated learning part): For example we could only have access to pictures of healthy plants, but we will need to also recognize sick plants. We will also analyze the effects of class imbalance (compare arXiv:2109.04094v2) and try to mitigate them. \n",
    "\n",
    "## Roadmap\n",
    "- [ ] Implement a Federated Transfer Learning Model on the FEMNIST Dataset. Create/Adapt a first model and test it.\n",
    "- [ ] Implement Class Imbalance (by manually creating it in the dataset or using existing imbalance from the dataset) and train a model to reduce this imbalance as much as possible.\n",
    "- [ ] Data preparation and visualization of the Plant Village dataset. Transfer the FEMNIST model to the more complex dataset and build upon it.\n",
    "- [ ] Evaluation of the results, what are valuable methods to reduce class imbalance?\n"
   ]
  },
  {
   "cell_type": "code",
   "execution_count": 2,
   "id": "5fc70541-54b3-4e31-aa3a-f8fcca80b363",
   "metadata": {},
   "outputs": [
    {
     "name": "stdout",
     "output_type": "stream",
     "text": [
      "olé\n"
     ]
    }
   ],
   "source": [
    "#Activate Virtual Requirements\n",
    "\n",
    "# Install needed packages\n",
    "import scipy\n",
    "import numpy as np\n",
    "import matplotlib.pyplot as plt\n",
    "import time\n",
    "import os\n",
    "import tensorflow as tf\n",
    "\n",
    "'''\n",
    "Speak only tha truts\n",
    "'''\n",
    "\n",
    "print('olé')"
   ]
  },
  {
   "cell_type": "code",
   "execution_count": null,
   "id": "bce20a91-7596-4b0d-b864-2a9fe36fc398",
   "metadata": {},
   "outputs": [],
   "source": []
  }
 ],
 "metadata": {
  "kernelspec": {
   "display_name": "itw_env",
   "language": "python",
   "name": "itw_env"
  },
  "language_info": {
   "codemirror_mode": {
    "name": "ipython",
    "version": 3
   },
   "file_extension": ".py",
   "mimetype": "text/x-python",
   "name": "python",
   "nbconvert_exporter": "python",
   "pygments_lexer": "ipython3",
   "version": "3.10.12"
  }
 },
 "nbformat": 4,
 "nbformat_minor": 5
}
