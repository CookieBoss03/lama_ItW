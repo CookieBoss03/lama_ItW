{
 "cells": [
  {
   "cell_type": "markdown",
   "id": "01fba671-6040-4986-b57a-339c1c16c036",
   "metadata": {},
   "source": [
    "# Project Lama Into the Wild: Transfer Learning & Domain Similarity metrics\n",
    "<b>Group Number: 13</b><br>\n",
    "<b>Name Group Member 1: Léo Brucker</b><br>\n",
    "<b>u-Kürzel Group Member 1: uhugu</b><br>\n",
    "<b>Name Group Member 2: Cyril Rudolph</b><br>\n",
    "<b>u-Kürzel Group Member 2: udjvh</b>\n",
    "## Project Description:\n",
    "### Primary Milestone:\n",
    "Goal: Transfer Learning (Domain Adaptation) in Precision Agriculture.\n",
    "<br>Task: train a model for classification and evaluate it in different domains.\n",
    "\n",
    "Understand the problems of Federated learning and class imbalance by first trying to apply a model that can transfer the “global model” onto local small datasets (defined by different clients in the FEMNIST dataset).\n",
    "\n",
    "### Secondary Milestone:\n",
    "Use Federated Transfer Learning on a more complex dataset with two types of class categories (plant type and plant health). One of these types of classes will be used to simulate the clients (for the federated learning part): For example we could only have access to pictures of healthy plants, but we will need to also recognize sick plants. We will also analyze the effects of class imbalance (compare arXiv:2109.04094v2) and try to mitigate them. \n",
    "\n",
    "## Roadmap\n",
    "- [ ] Implement a Federated Transfer Learning Model on the FEMNIST Dataset. Create/Adapt a first model and test it.\n",
    "- [ ] Implement Class Imbalance (by manually creating it in the dataset or using existing imbalance from the dataset) and train a model to reduce this imbalance as much as possible.\n",
    "- [ ] Data preparation and visualization of the Plant Village dataset. Transfer the FEMNIST model to the more complex dataset and build upon it.\n",
    "- [ ] Evaluation of the results, what are valuable methods to reduce class imbalance?\n"
   ]
  },
  {
   "cell_type": "code",
   "execution_count": 1,
   "id": "5fc70541-54b3-4e31-aa3a-f8fcca80b363",
   "metadata": {},
   "outputs": [
    {
     "name": "stderr",
     "output_type": "stream",
     "text": [
      "2024-01-29 10:53:38.367914: I tensorflow/tsl/cuda/cudart_stub.cc:28] Could not find cuda drivers on your machine, GPU will not be used.\n",
      "2024-01-29 10:53:38.846351: E tensorflow/compiler/xla/stream_executor/cuda/cuda_dnn.cc:9342] Unable to register cuDNN factory: Attempting to register factory for plugin cuDNN when one has already been registered\n",
      "2024-01-29 10:53:38.846388: E tensorflow/compiler/xla/stream_executor/cuda/cuda_fft.cc:609] Unable to register cuFFT factory: Attempting to register factory for plugin cuFFT when one has already been registered\n",
      "2024-01-29 10:53:38.849580: E tensorflow/compiler/xla/stream_executor/cuda/cuda_blas.cc:1518] Unable to register cuBLAS factory: Attempting to register factory for plugin cuBLAS when one has already been registered\n",
      "2024-01-29 10:53:39.118108: I tensorflow/tsl/cuda/cudart_stub.cc:28] Could not find cuda drivers on your machine, GPU will not be used.\n",
      "2024-01-29 10:53:39.119496: I tensorflow/core/platform/cpu_feature_guard.cc:182] This TensorFlow binary is optimized to use available CPU instructions in performance-critical operations.\n",
      "To enable the following instructions: AVX2 FMA, in other operations, rebuild TensorFlow with the appropriate compiler flags.\n",
      "2024-01-29 10:53:40.487515: W tensorflow/compiler/tf2tensorrt/utils/py_utils.cc:38] TF-TRT Warning: Could not find TensorRT\n"
     ]
    }
   ],
   "source": [
    "# Import packages\n",
    "\n",
    "import numpy as np\n",
    "import matplotlib.pyplot as plt\n",
    "import time\n",
    "import os\n",
    "import tensorflow as tf\n",
    "import tensorflow_federated as tff\n",
    "\n"
   ]
  },
  {
   "cell_type": "code",
   "execution_count": 2,
   "id": "bce20a91-7596-4b0d-b864-2a9fe36fc398",
   "metadata": {},
   "outputs": [
    {
     "name": "stderr",
     "output_type": "stream",
     "text": [
      "2024-01-29 10:53:44.921765: I tensorflow/compiler/xla/stream_executor/cuda/cuda_gpu_executor.cc:894] successful NUMA node read from SysFS had negative value (-1), but there must be at least one NUMA node, so returning NUMA node zero. See more at https://github.com/torvalds/linux/blob/v6.0/Documentation/ABI/testing/sysfs-bus-pci#L344-L355\n",
      "2024-01-29 10:53:44.924413: W tensorflow/core/common_runtime/gpu/gpu_device.cc:2211] Cannot dlopen some GPU libraries. Please make sure the missing libraries mentioned above are installed properly if you would like to use GPU. Follow the guide at https://www.tensorflow.org/install/gpu for how to download and setup the required libraries for your platform.\n",
      "Skipping registering GPU devices...\n"
     ]
    }
   ],
   "source": [
    "# Load the FEMNIST dataset\n",
    "\n",
    "femnist_train, femnist_test = tff.simulation.datasets.emnist.load_data(only_digits=True, cache_dir=None)\n",
    "\n",
    "NUM_CLIENTS = 10 # number of clients (writers) we will work with\n",
    "BATCH_SIZE = 20\n",
    "\n",
    "# preprocess function (from ttf tutorial)\n",
    "def preprocess(dataset):\n",
    "  def batch_format_fn(element):\n",
    "    \"\"\"Flatten a batch of EMNIST data and return a (features, label) tuple.\"\"\"\n",
    "    return (tf.reshape(element['pixels'], [-1, 784]),\n",
    "            tf.reshape(element['label'], [-1, 1]))\n",
    "\n",
    "  return dataset.batch(BATCH_SIZE).map(batch_format_fn)\n",
    "\n",
    "# Create dataset of defined number of clients\n",
    "client_ids = sorted(femnist_train.client_ids)[:NUM_CLIENTS]\n",
    "federated_train_data = [preprocess(femnist_train.create_tf_dataset_for_client(x))\n",
    "  for x in client_ids\n",
    "]\n",
    "\n"
   ]
  },
  {
   "cell_type": "code",
   "execution_count": 4,
   "id": "9bc3537f",
   "metadata": {},
   "outputs": [],
   "source": [
    "# Creating the model\n",
    "\n",
    "# Create a tensorflow (keras) model\n",
    "def create_keras_model():\n",
    "  initializer = tf.keras.initializers.GlorotNormal(seed=0)\n",
    "  return tf.keras.models.Sequential([\n",
    "      tf.keras.layers.Input(shape=(784,)),                          ## Input 784 pixels\n",
    "      tf.keras.layers.Dense(10, kernel_initializer=initializer),    ## 10 fully-connected neurons\n",
    "      tf.keras.layers.Softmax(),                                    ## One-hot encoding\n",
    "  ])\n",
    "\n",
    "# Convert the created model into ttf\n",
    "def model_fn():\n",
    "  keras_model = create_keras_model()\n",
    "  return tff.learning.models.from_keras_model(\n",
    "      keras_model,\n",
    "      input_spec=federated_train_data[0].element_spec,\n",
    "      loss=tf.keras.losses.SparseCategoricalCrossentropy(),\n",
    "      metrics=[tf.keras.metrics.SparseCategoricalAccuracy()])\n",
    "\n",
    "#tff.federated_computation(lambda: 'Hello, Puta madre!')()\n",
    "\n"
   ]
  }
 ],
 "metadata": {
  "kernelspec": {
   "display_name": "itw_env",
   "language": "python",
   "name": "python3"
  },
  "language_info": {
   "codemirror_mode": {
    "name": "ipython",
    "version": 3
   },
   "file_extension": ".py",
   "mimetype": "text/x-python",
   "name": "python",
   "nbconvert_exporter": "python",
   "pygments_lexer": "ipython3",
   "version": "3.10.12"
  }
 },
 "nbformat": 4,
 "nbformat_minor": 5
}
