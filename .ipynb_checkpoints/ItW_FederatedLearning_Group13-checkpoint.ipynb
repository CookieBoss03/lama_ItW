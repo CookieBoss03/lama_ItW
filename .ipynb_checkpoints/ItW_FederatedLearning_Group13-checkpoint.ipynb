{
 "cells": [
  {
   "cell_type": "markdown",
   "id": "01fba671-6040-4986-b57a-339c1c16c036",
   "metadata": {},
   "source": [
    "# Project Lama Into the Wild: Transfer Learning & Domain Similarity metrics\n",
    "<b>Group Number: 13</b><br>\n",
    "<b>Name Group Member 1: Léo Brucker</b><br>\n",
    "<b>u-Kürzel Group Member 1: uhugu</b><br>\n",
    "<b>Name Group Member 2: Cyril Rudolph</b><br>\n",
    "<b>u-Kürzel Group Member 2: udjvh</b>\n",
    "## Project Description:\n",
    "### Primary Milestone:\n",
    "Understand the problems of Federated learning and class imbalance by first trying to apply a model that can transfer the “global model” onto local small datasets (defined by different clients in the FEMNIST dataset).\n",
    "### Primary Milestone:\n",
    "## Roadmap\n",
    "- [ ] Implement a Federated Transfer Learning Model on the FEMNIST Dataset. Create/Adapt a first model and test it.\n",
    "- [ ] Implement Class Imbalance (by manually creating it in the dataset or using existing imbalance from the dataset) and train a model to reduce this imbalance as much as possible.\n",
    "- [ ] Data preparation and visualization of the Plant Village dataset. Transfer the FEMNIST model to the more complex dataset and build upon it.\n",
    "- [ ] Evaluation of the results, what are valuable methods to reduce class imbalance?\n"
   ]
  },
  {
   "cell_type": "code",
   "execution_count": 3,
   "id": "5fc70541-54b3-4e31-aa3a-f8fcca80b363",
   "metadata": {},
   "outputs": [
    {
     "ename": "ModuleNotFoundError",
     "evalue": "No module named 'tensorflow'",
     "output_type": "error",
     "traceback": [
      "\u001b[0;31m---------------------------------------------------------------------------\u001b[0m",
      "\u001b[0;31mModuleNotFoundError\u001b[0m                       Traceback (most recent call last)",
      "Cell \u001b[0;32mIn[3], line 5\u001b[0m\n\u001b[1;32m      3\u001b[0m \u001b[38;5;28;01mimport\u001b[39;00m \u001b[38;5;21;01mtime\u001b[39;00m\n\u001b[1;32m      4\u001b[0m \u001b[38;5;28;01mimport\u001b[39;00m \u001b[38;5;21;01mos\u001b[39;00m\n\u001b[0;32m----> 5\u001b[0m \u001b[38;5;28;01mimport\u001b[39;00m \u001b[38;5;21;01mtensorflow\u001b[39;00m \u001b[38;5;28;01mas\u001b[39;00m \u001b[38;5;21;01mtf\u001b[39;00m\n\u001b[1;32m      7\u001b[0m \u001b[38;5;124;03m'''\u001b[39;00m\n\u001b[1;32m      8\u001b[0m \u001b[38;5;124;03mSpeak only tha truts\u001b[39;00m\n\u001b[1;32m      9\u001b[0m \u001b[38;5;124;03m'''\u001b[39;00m\n\u001b[1;32m     11\u001b[0m \u001b[38;5;28mprint\u001b[39m(\u001b[38;5;124m'\u001b[39m\u001b[38;5;124ma\u001b[39m\u001b[38;5;124m'\u001b[39m)\n",
      "\u001b[0;31mModuleNotFoundError\u001b[0m: No module named 'tensorflow'"
     ]
    }
   ],
   "source": [
    "#Activate Virtual Requirements\n",
    "\n",
    "# Install needed packages\n",
    "import numpy as np\n",
    "import time\n",
    "import os\n",
    "import tensorflow as tf\n",
    "\n",
    "'''\n",
    "Speak only tha truts\n",
    "'''\n",
    "\n",
    "print('a')"
   ]
  },
  {
   "cell_type": "code",
   "execution_count": null,
   "id": "bce20a91-7596-4b0d-b864-2a9fe36fc398",
   "metadata": {},
   "outputs": [],
   "source": []
  }
 ],
 "metadata": {
  "kernelspec": {
   "display_name": "Python 3 (ipykernel)",
   "language": "python",
   "name": "python3"
  },
  "language_info": {
   "codemirror_mode": {
    "name": "ipython",
    "version": 3
   },
   "file_extension": ".py",
   "mimetype": "text/x-python",
   "name": "python",
   "nbconvert_exporter": "python",
   "pygments_lexer": "ipython3",
   "version": "3.10.12"
  }
 },
 "nbformat": 4,
 "nbformat_minor": 5
}
